{
 "cells": [
  {
   "cell_type": "code",
   "execution_count": 1,
   "id": "c99b148e-2058-4f8e-ab60-ee80e4f4876a",
   "metadata": {},
   "outputs": [],
   "source": [
    "import time as time\n",
    "import os\n",
    "import sys\n",
    "import io\n",
    "\n",
    "import tracemalloc\n",
    "import numpy as np\n",
    "import pandas as pd\n",
    "import sklearn as skl\n",
    "\n",
    "from sklearn.linear_model import lasso_path\n",
    "from pysnptools.snpreader import Bed\n",
    "\n",
    "# import names_in_pipeline as nip\n",
    "# import pipeline_utilities as pu\n",
    "import scipy as sp\n",
    "\n",
    "#For plotting\n",
    "import matplotlib.pyplot as plt\n"
   ]
  },
  {
   "cell_type": "raw",
   "id": "c2103cac-841f-416a-97bf-c5cd03098e41",
   "metadata": {},
   "source": [
    "There are plink files (simulated.bed, simulated.bim, simulated.fam) that are used for this analysis. "
   ]
  },
  {
   "cell_type": "code",
   "execution_count": 2,
   "id": "d2c150ce-db2f-4be1-a228-4d221357b49e",
   "metadata": {},
   "outputs": [],
   "source": [
    "work_path = '/mnt/home/rabentim/simulations'\n",
    "gene_path = f'{work_path}/simulated' # '/full/path/to/plink/files'\n",
    "bim = pd.read_csv(f'{gene_path}.bim',header=None,sep='\\t')\n",
    "fam = pd.read_csv(f'{gene_path}.fam',header=None,sep='\\s+')"
   ]
  },
  {
   "cell_type": "code",
   "execution_count": 3,
   "id": "417ed644-ff78-4b30-8457-34b1abf0c166",
   "metadata": {},
   "outputs": [
    {
     "name": "stdout",
     "output_type": "stream",
     "text": [
      "using 8000 samples and 1100 features\n"
     ]
    }
   ],
   "source": [
    "#specify the number of features per block to be loaded\n",
    "nsnps_per = 50\n",
    "#specify the number of blocks (in this case the number of chromosomes)\n",
    "nblocks=22\n",
    "#specify the number of samples\n",
    "nsample = 8000\n",
    "\n",
    "#list of snps to use. nsnps_per are randomly sampled from each block. This must be edited if you want to work on non-chromosome blocks\n",
    "all_snps = [bim[bim[0]==i][1][0:nsnps_per] for i in np.sort(np.random.choice(range(1,23),nblocks,replace=False))]\n",
    "#fam file of just samples\n",
    "sub_fam = fam.sample(nsample)\n",
    "sub_fam = sub_fam.sort_values(by=1)\n",
    "#snpreader Bed file\n",
    "bed_data = Bed(gene_path,count_A1=False)\n",
    "print(f'using {nsample} samples and {nsnps_per*nblocks} features')"
   ]
  },
  {
   "cell_type": "markdown",
   "id": "d82a2c6c-525d-4a80-a266-6fd697397096",
   "metadata": {},
   "source": [
    "# global lasso"
   ]
  },
  {
   "cell_type": "markdown",
   "id": "22715af7-2836-418a-bf07-f2e3f057868b",
   "metadata": {
    "jp-MarkdownHeadingCollapsed": true
   },
   "source": [
    "## loading genetic data"
   ]
  },
  {
   "cell_type": "markdown",
   "id": "1f1c91af-3ddb-430d-b129-b0b6dbd302cf",
   "metadata": {},
   "source": [
    "Loading each block and combining them"
   ]
  },
  {
   "cell_type": "code",
   "execution_count": 55,
   "id": "67da27d5-72fc-4880-9a9a-6a10c28702f1",
   "metadata": {},
   "outputs": [
    {
     "name": "stdout",
     "output_type": "stream",
     "text": [
      "0.6166880130767822 seconds\n",
      "tracemalloc: (0.074572756, 0.141771956) GB of RAM\n",
      "final shape: (8000, 1100)\n"
     ]
    }
   ],
   "source": [
    "tracemalloc.start()\n",
    "tracemalloc.reset_peak()\n",
    "t = time.time()\n",
    "iids = sub_fam[[0,1]].values.astype(str)\n",
    "sample_idx = bed_data.iid_to_index(iids)\n",
    "for i in range(0,nblocks):\n",
    "    top_snps_idx = bed_data.sid_to_index(all_snps[i])\n",
    "    sub_snpreader = bed_data[sample_idx, top_snps_idx]\n",
    "    snpdata = sub_snpreader.read()\n",
    "    tmpG=snpdata.val\n",
    "    if i == 0:\n",
    "        subG=tmpG\n",
    "    else:\n",
    "        subG = np.hstack((subG,tmpG))\n",
    "ellapse = time.time() - t\n",
    "print(f'{ellapse} seconds')\n",
    "malloc = tracemalloc.get_traced_memory()\n",
    "malloc = tuple(it/1000000000 for it in malloc)\n",
    "print(f'tracemalloc: {malloc} GB of RAM')\n",
    "print(f'final shape: {np.shape(subG)}')\n",
    "global_malloc = malloc\n",
    "tracemalloc.stop()"
   ]
  },
  {
   "cell_type": "markdown",
   "id": "ce33c4ee-c6f7-49af-9905-3b5357f2ed40",
   "metadata": {},
   "source": [
    "Or loading all snps at once"
   ]
  },
  {
   "cell_type": "code",
   "execution_count": 56,
   "id": "2f627b26-feec-4179-93da-298328e7008d",
   "metadata": {},
   "outputs": [],
   "source": [
    "# tracemalloc.start()\n",
    "# tracemalloc.reset_peak()\n",
    "# t = time.time()\n",
    "# iids = sub_fam[[0,1]].values.astype(str)\n",
    "# sample_idx = bed_data.iid_to_index(iids)\n",
    "# top_snps_idx = bed_data.sid_to_index(np.hstack(all_snps))\n",
    "# sub_snpreader = bed_data[sample_idx, top_snps_idx]\n",
    "# snpdata = sub_snpreader.read()\n",
    "# subG=snpdata.val\n",
    "# ellapse = time.time() - t\n",
    "# print(f'{ellapse} seconds')\n",
    "# malloc = tracemalloc.get_traced_memory()\n",
    "# malloc = tuple(it/1000000000 for it in malloc)\n",
    "# print(f'tracemalloc: {malloc} GB of RAM')\n",
    "# print(f'final shape: {np.shape(subG)}')\n",
    "# global_malloc = malloc\n",
    "# tracemalloc.stop()"
   ]
  },
  {
   "cell_type": "code",
   "execution_count": 8,
   "id": "c7e62db0-3a81-470d-8af0-ddf8533a55f1",
   "metadata": {},
   "outputs": [],
   "source": [
    "#separate genotype matrix into training, validation, and testing sets: train 80%, val 10%, test 10% \n",
    "trainG = subG[0:np.floor(.8*nsample).astype(int)]\n",
    "valG = subG[np.floor(.8*nsample).astype(int):np.floor(.9*nsample).astype(int)]\n",
    "testG = subG[np.floor(.9*nsample).astype(int):]"
   ]
  },
  {
   "cell_type": "code",
   "execution_count": 9,
   "id": "6b5d74b2-b103-49b2-9804-14f556e442ba",
   "metadata": {},
   "outputs": [],
   "source": [
    "#standardize the genetic matrices according to the training set\n",
    "center = np.zeros(trainG.shape[1])\n",
    "spread = np.zeros(trainG.shape[1])\n",
    "for col in range(0,subG.shape[1]):\n",
    "    center[col] = np.nanmean(trainG[:,col])\n",
    "    spread[col] = np.nanstd(trainG[:,col])\n",
    "\n",
    "missing = np.argwhere(np.isnan(subG))\n",
    "for row in range(0,missing.shape[0]):\n",
    "    ind1 = missing[row,0]\n",
    "    ind2 = missing[row,1]\n",
    "    subG[ind1,ind2] = center[ind2]\n",
    "\n",
    "for col in range(0,subG.shape[1]):\n",
    "    val = spread[col]\n",
    "    if spread[col] == 0.0:\n",
    "        val = 1.0\n",
    "    subG[:,col] = (subG[:,col] - center[col])/val\n",
    "\n",
    "trainG = subG[0:np.floor(.8*nsample).astype(int)]\n",
    "valG = subG[np.floor(.8*nsample).astype(int):np.floor(.9*nsample).astype(int)]\n",
    "testG = subG[np.floor(.9*nsample).astype(int):]"
   ]
  },
  {
   "cell_type": "markdown",
   "id": "6f2b6da2-d4a2-4f76-9278-c0b51fba84e6",
   "metadata": {},
   "source": [
    "Features (SNPs) should be roughly indpendent between blocks for the blockLASSO to work well. This can be visually seen by uncommenting the following code and plotting the correlation structure. Warning this can be slow for large matrices."
   ]
  },
  {
   "cell_type": "code",
   "execution_count": 10,
   "id": "78a0beeb-fd84-4979-8722-30297337dacb",
   "metadata": {},
   "outputs": [],
   "source": [
    "# feature = np.random.randint(0,nsnps_per*nblocks)\n",
    "# df=pd.DataFrame(subG)\n",
    "# plt.scatter(np.linspace(1,nsnps_per*nblocks,nsnps_per*nblocks),df.corr()[feature])\n",
    "# for i in range(1,nblocks):\n",
    "#     plt.axvline(i*nsnps_per,-0.2,1,color='red',ls='--')"
   ]
  },
  {
   "cell_type": "markdown",
   "id": "3eee4059-f65e-4e26-b57c-0349fe168164",
   "metadata": {
    "jp-MarkdownHeadingCollapsed": true
   },
   "source": [
    "## generate genetic model and train global LASSO"
   ]
  },
  {
   "cell_type": "markdown",
   "id": "2861dc1a-fa66-4da3-ad45-2c1b2b824208",
   "metadata": {},
   "source": [
    "we will assume a simple linear model with a noise term (enviornmental, covariate, etc.) and no explicit covariates"
   ]
  },
  {
   "cell_type": "code",
   "execution_count": 11,
   "id": "16dd6d56-ca1c-4b9e-9bcd-083aa7aa8a7e",
   "metadata": {},
   "outputs": [],
   "source": [
    "#define number of participating features and assign them effect weights in [0,1). \n",
    "# err_rel_size defines the error scale in terms of the standard deviation of the true weight effects\n",
    "ntrue_weights = 300\n",
    "err_rel_size = 5\n",
    "tmp = np.zeros(nblocks*nsnps_per)\n",
    "weights = np.random.rand(ntrue_weights)\n",
    "weight_locations = np.sort(np.random.randint(0,nblocks*nsnps_per,ntrue_weights))\n",
    "tmp[weight_locations] = weights\n",
    "weights = tmp\n",
    "gene_effects = np.dot(subG,weights)\n",
    "error_effects = err_rel_size*np.std(gene_effects)* np.random.rand(nsample)\n",
    "\n",
    "#define true phenotype and split into various sets\n",
    "true_y = gene_effects + error_effects\n",
    "train_y = true_y[0:np.floor(.8*nsample).astype(int)]\n",
    "val_y = true_y[np.floor(.8*nsample).astype(int):np.floor(.9*nsample).astype(int)]\n",
    "test_y = true_y[np.floor(.9*nsample).astype(int):]\n",
    "\n",
    "#standardize training set for algorithm training\n",
    "ymu = np.mean(train_y)\n",
    "ysig = np.std(train_y)\n",
    "norm_train_y = (train_y-ymu)/ysig"
   ]
  },
  {
   "cell_type": "code",
   "execution_count": 12,
   "id": "aa1e3eed-661a-4607-96c5-f28c1ed9f93b",
   "metadata": {},
   "outputs": [
    {
     "name": "stdout",
     "output_type": "stream",
     "text": [
      "1.412977933883667 seconds\n",
      "tracemalloc: (0.000453321, 0.066655798) GB of RAM\n"
     ]
    }
   ],
   "source": [
    "#run global lasso\n",
    "tracemalloc.start()\n",
    "tracemalloc.reset_peak()\n",
    "t = time.time()\n",
    "path = skl.linear_model.lasso_path(trainG,norm_train_y,n_alphas=50,eps=.01,max_iter=1500)\n",
    "ellapse = time.time() - t\n",
    "print(f'{ellapse} seconds')\n",
    "malloc = tracemalloc.get_traced_memory()\n",
    "malloc = tuple(it/1000000000 for it in malloc)\n",
    "print(f'tracemalloc: {malloc} GB of RAM')\n",
    "global_lasso_malloc = malloc\n",
    "tracemalloc.stop()"
   ]
  },
  {
   "cell_type": "code",
   "execution_count": 13,
   "id": "ddb784a2-554c-4c55-926d-407afcf66256",
   "metadata": {},
   "outputs": [
    {
     "name": "stderr",
     "output_type": "stream",
     "text": [
      "/mnt/home/rabentim/.local/lib/python3.11/site-packages/numpy/lib/function_base.py:2897: RuntimeWarning: invalid value encountered in divide\n",
      "  c /= stddev[:, None]\n",
      "/mnt/home/rabentim/.local/lib/python3.11/site-packages/numpy/lib/function_base.py:2898: RuntimeWarning: invalid value encountered in divide\n",
      "  c /= stddev[None, :]\n"
     ]
    }
   ],
   "source": [
    "# correlation in validation set\n",
    "val_mets =np.array([np.corrcoef(val_y,np.dot(valG,path[1])[:,i])[0][1] for i in range(0,50)])\n",
    "max_ind = np.nanargmax(val_mets)\n",
    "# correlation in testing set\n",
    "global_met = np.corrcoef(test_y,np.dot(testG,path[1][:,max_ind]))[0][1]\n",
    "#True correlation\n",
    "true_met = np.corrcoef(gene_effects,true_y)[0][1]"
   ]
  },
  {
   "cell_type": "markdown",
   "id": "13ce6340-9259-4829-b6cb-90580470e2fc",
   "metadata": {
    "jp-MarkdownHeadingCollapsed": true
   },
   "source": [
    "# blockLASSO"
   ]
  },
  {
   "cell_type": "markdown",
   "id": "dc90453c-5717-48f5-ac35-fe7b77201d11",
   "metadata": {},
   "source": [
    "## loading genetic data"
   ]
  },
  {
   "cell_type": "code",
   "execution_count": 67,
   "id": "bcbb407b-8e1a-42a4-901c-860c2f1d66b0",
   "metadata": {},
   "outputs": [
    {
     "name": "stdout",
     "output_type": "stream",
     "text": [
      "single (first) block tracemalloc: (0.004171469, 0.004364953) GB of RAM\n",
      "0.6138358116149902 seconds\n",
      "total tracemalloc: (0.074572813, 0.141772802) GB of RAM\n",
      "final shape: (8000, 1100)\n"
     ]
    }
   ],
   "source": [
    "tracemalloc.start()\n",
    "tracemalloc.reset_peak()\n",
    "t = time.time()\n",
    "iids = sub_fam[[0,1]].values.astype(str)\n",
    "sample_idx = bed_data.iid_to_index(iids)\n",
    "for i in range(0,nblocks):\n",
    "    top_snps_idx = bed_data.sid_to_index(all_snps[i])\n",
    "    sub_snpreader = bed_data[sample_idx, top_snps_idx]\n",
    "    snpdata = sub_snpreader.read()\n",
    "    tmpG=snpdata.val\n",
    "    if i ==0:\n",
    "        malloc = tracemalloc.get_traced_memory()\n",
    "        malloc = tuple(it/1000000000 for it in malloc)\n",
    "        print(f'single (first) block tracemalloc: {malloc} GB of RAM')\n",
    "        single_block_malloc = malloc\n",
    "\n",
    "        subG=tmpG\n",
    "    else:\n",
    "        subG = np.hstack((subG,tmpG))\n",
    "ellapse = time.time() - t\n",
    "print(f'{ellapse} seconds')\n",
    "malloc = tracemalloc.get_traced_memory()\n",
    "malloc = tuple(it/1000000000 for it in malloc)\n",
    "print(f'total tracemalloc: {malloc} GB of RAM')\n",
    "print(f'final shape: {np.shape(subG)}')\n",
    "block_malloc = malloc\n",
    "tracemalloc.stop()"
   ]
  },
  {
   "cell_type": "code",
   "execution_count": 16,
   "id": "9c31f820-3169-435b-a18c-51e246fd179b",
   "metadata": {},
   "outputs": [],
   "source": [
    "# train 80%, val 10%, test 10% \n",
    "trainG = subG[0:np.floor(.8*nsample).astype(int)]\n",
    "valG = subG[np.floor(.8*nsample).astype(int):np.floor(.9*nsample).astype(int)]\n",
    "testG = subG[np.floor(.9*nsample).astype(int):]"
   ]
  },
  {
   "cell_type": "code",
   "execution_count": 17,
   "id": "9cd94ee7-bc65-44f4-8669-d77d218c324c",
   "metadata": {},
   "outputs": [],
   "source": [
    "center = np.zeros(trainG.shape[1])\n",
    "spread = np.zeros(trainG.shape[1])\n",
    "for col in range(0,subG.shape[1]):\n",
    "    center[col] = np.nanmean(trainG[:,col])\n",
    "    spread[col] = np.nanstd(trainG[:,col])\n",
    "\n",
    "missing = np.argwhere(np.isnan(subG))\n",
    "for row in range(0,missing.shape[0]):\n",
    "    ind1 = missing[row,0]\n",
    "    ind2 = missing[row,1]\n",
    "    subG[ind1,ind2] = center[ind2]\n",
    "\n",
    "for col in range(0,subG.shape[1]):\n",
    "    val = spread[col]\n",
    "    if spread[col] == 0.0:\n",
    "        val = 1.0\n",
    "    subG[:,col] = (subG[:,col] - center[col])/val\n",
    "\n",
    "trainG = subG[0:np.floor(.8*nsample).astype(int)]\n",
    "valG = subG[np.floor(.8*nsample).astype(int):np.floor(.9*nsample).astype(int)]\n",
    "testG = subG[np.floor(.9*nsample).astype(int):]"
   ]
  },
  {
   "cell_type": "code",
   "execution_count": 19,
   "id": "77efe266-bf0a-4338-9212-744596fd4925",
   "metadata": {},
   "outputs": [
    {
     "name": "stdout",
     "output_type": "stream",
     "text": [
      "0.060268402099609375 seconds\n",
      "tracemalloc: (2.8792e-05, 0.002740521) GB of RAM\n",
      "0.11486005783081055 seconds\n",
      "tracemalloc: (5.0911e-05, 0.002764075) GB of RAM\n",
      "0.1693711280822754 seconds\n",
      "tracemalloc: (7.2671e-05, 0.002785924) GB of RAM\n",
      "0.22194719314575195 seconds\n",
      "tracemalloc: (9.4368e-05, 0.002807684) GB of RAM\n",
      "0.2795383930206299 seconds\n",
      "tracemalloc: (0.000115324, 0.002829257) GB of RAM\n",
      "0.3318798542022705 seconds\n",
      "tracemalloc: (0.000137303, 0.002850588) GB of RAM\n",
      "0.3842184543609619 seconds\n",
      "tracemalloc: (0.000158992, 0.002872245) GB of RAM\n",
      "0.4354431629180908 seconds\n",
      "tracemalloc: (0.000180617, 0.002893934) GB of RAM\n",
      "0.48949146270751953 seconds\n",
      "tracemalloc: (0.000201629, 0.002913766) GB of RAM\n",
      "0.5421469211578369 seconds\n",
      "tracemalloc: (0.000223582, 0.002936867) GB of RAM\n",
      "0.5977065563201904 seconds\n",
      "tracemalloc: (0.000245323, 0.002958576) GB of RAM\n",
      "0.652940034866333 seconds\n",
      "tracemalloc: (0.000266947, 0.002980265) GB of RAM\n",
      "0.7058711051940918 seconds\n",
      "tracemalloc: (0.000287956, 0.003000017) GB of RAM\n",
      "0.7583978176116943 seconds\n",
      "tracemalloc: (0.000309851, 0.003023136) GB of RAM\n",
      "0.8101696968078613 seconds\n",
      "tracemalloc: (0.000331589, 0.003044842) GB of RAM\n",
      "0.8648879528045654 seconds\n",
      "tracemalloc: (0.000353266, 0.003066583) GB of RAM\n",
      "0.9178404808044434 seconds\n",
      "tracemalloc: (0.00037444, 0.003086437) GB of RAM\n",
      "0.9694015979766846 seconds\n",
      "tracemalloc: (0.000396395, 0.00310968) GB of RAM\n",
      "1.0218775272369385 seconds\n",
      "tracemalloc: (0.000418135, 0.003131388) GB of RAM\n",
      "1.074084997177124 seconds\n",
      "tracemalloc: (0.000439756, 0.003153074) GB of RAM\n",
      "1.1275570392608643 seconds\n",
      "tracemalloc: (0.000463066, 0.003175127) GB of RAM\n",
      "1.1798961162567139 seconds\n",
      "tracemalloc: (0.000482599, 0.003195884) GB of RAM\n"
     ]
    }
   ],
   "source": [
    "paths = []\n",
    "block_lasso_mallocs = []\n",
    "tracemalloc.start()\n",
    "tracemalloc.reset_peak()\n",
    "t = time.time()\n",
    "for i in range(0,nblocks):\n",
    "    tmp_path = skl.linear_model.lasso_path(trainG[:,i*nsnps_per:(i+1)*nsnps_per],\n",
    "                                   norm_train_y,n_alphas=50,eps=.01,max_iter=1500)\n",
    "    paths.append(tmp_path)\n",
    "    ellapse = time.time() - t\n",
    "    print(f'{ellapse} seconds')\n",
    "    malloc = tracemalloc.get_traced_memory()\n",
    "    block_lasso_mallocs.append(malloc)\n",
    "    malloc = tuple(it/1000000000 for it in malloc)\n",
    "    print(f'tracemalloc: {malloc} GB of RAM')\n",
    "tracemalloc.stop()"
   ]
  },
  {
   "cell_type": "code",
   "execution_count": 20,
   "id": "7846bb9e-f999-4b13-a465-dd37bfe4b293",
   "metadata": {},
   "outputs": [
    {
     "name": "stderr",
     "output_type": "stream",
     "text": [
      "/mnt/home/rabentim/.local/lib/python3.11/site-packages/numpy/lib/function_base.py:2897: RuntimeWarning: invalid value encountered in divide\n",
      "  c /= stddev[:, None]\n",
      "/mnt/home/rabentim/.local/lib/python3.11/site-packages/numpy/lib/function_base.py:2898: RuntimeWarning: invalid value encountered in divide\n",
      "  c /= stddev[None, :]\n"
     ]
    }
   ],
   "source": [
    "#build validation correlations for each block\n",
    "valGs =[]\n",
    "for i in range(0,nblocks):\n",
    "    valGs.append(valG[:,i*nsnps_per:(i+1)*nsnps_per])\n",
    "vals_mets = np.array([np.array([np.corrcoef(val_y,np.dot(valGs[j],paths[j][1])[:,i])[0][1] for i in range(0,50)]) for j in range(0,nblocks)])\n",
    "bests = np.array([np.nanargmax(vals_mets[i]) for i in range(0,nblocks)])\n",
    "\n",
    "#perform linear regression on blocks\n",
    "block_val_scores = np.array([np.dot(valGs[i],paths[i][1][:,bests[i]]) for i in range(0,nblocks)])\n",
    "fit = skl.linear_model.LinearRegression().fit(block_val_scores.T,val_y)\n",
    "\n",
    "#apply full model to testing set\n",
    "testGs =[]\n",
    "for i in range(0,nblocks):\n",
    "    testGs.append(testG[:,i*nsnps_per:(i+1)*nsnps_per])\n",
    "block_test_scores = np.array([np.dot(testGs[i],paths[i][1][:,bests[i]]) for i in range(0,nblocks)])\n",
    "\n",
    "unweighted_met = np.corrcoef(np.sum(block_test_scores.T,axis=1),test_y)[0][1]\n",
    "block_met = np.corrcoef(fit.predict(block_test_scores.T),test_y)[0][1]"
   ]
  },
  {
   "cell_type": "code",
   "execution_count": null,
   "id": "34288be1-fe77-4d62-ac3b-20831ab6937a",
   "metadata": {},
   "outputs": [],
   "source": []
  },
  {
   "cell_type": "code",
   "execution_count": null,
   "id": "fa94e4cc-7d67-4ddb-ae31-cfe3908c3959",
   "metadata": {},
   "outputs": [],
   "source": []
  },
  {
   "cell_type": "markdown",
   "id": "720b04cc-6120-4ffc-86ef-01dfa1431e67",
   "metadata": {},
   "source": [
    "# final results"
   ]
  },
  {
   "cell_type": "code",
   "execution_count": 21,
   "id": "e00737b0-c761-4011-b61a-228a7a01f6da",
   "metadata": {},
   "outputs": [
    {
     "data": {
      "text/plain": [
       "(0.5734302955302221, 0.5065586433125017, 0.482724768973531)"
      ]
     },
     "execution_count": 21,
     "metadata": {},
     "output_type": "execute_result"
    }
   ],
   "source": [
    "true_met, global_met, block_met"
   ]
  },
  {
   "cell_type": "code",
   "execution_count": 26,
   "id": "2b64a86d-82ef-4fb6-b89d-18e146716b4b",
   "metadata": {},
   "outputs": [
    {
     "data": {
      "text/plain": [
       "(0.139249189, 0.206448272)"
      ]
     },
     "execution_count": 26,
     "metadata": {},
     "output_type": "execute_result"
    }
   ],
   "source": [
    "global_malloc"
   ]
  },
  {
   "cell_type": "code",
   "execution_count": 27,
   "id": "8b2703ed-04fd-4228-a59d-52b845cdd26f",
   "metadata": {},
   "outputs": [
    {
     "data": {
      "text/plain": [
       "(0.000453321, 0.066655798)"
      ]
     },
     "execution_count": 27,
     "metadata": {},
     "output_type": "execute_result"
    }
   ],
   "source": [
    "global_lasso_malloc"
   ]
  },
  {
   "cell_type": "code",
   "execution_count": 28,
   "id": "fd36d70d-4b5c-4aa6-839a-f36e852240fb",
   "metadata": {},
   "outputs": [
    {
     "data": {
      "text/plain": [
       "(0.074875703, 0.142074935)"
      ]
     },
     "execution_count": 28,
     "metadata": {},
     "output_type": "execute_result"
    }
   ],
   "source": [
    "block_malloc"
   ]
  },
  {
   "cell_type": "code",
   "execution_count": 31,
   "id": "aaa2a371-607a-45c5-998c-fbd591911d85",
   "metadata": {},
   "outputs": [
    {
     "data": {
      "text/plain": [
       "array([0.00025607, 0.00296909])"
      ]
     },
     "execution_count": 31,
     "metadata": {},
     "output_type": "execute_result"
    }
   ],
   "source": [
    "block_lasso_avg_mallocs = np.mean(np.array(block_lasso_mallocs),axis=0).T/1000000000\n",
    "block_lasso_avg_mallocs"
   ]
  },
  {
   "cell_type": "code",
   "execution_count": null,
   "id": "b80354f0-d791-4aeb-b955-0c581566d261",
   "metadata": {},
   "outputs": [],
   "source": []
  },
  {
   "cell_type": "code",
   "execution_count": null,
   "id": "ed6f7ed0-c111-49cb-9df8-5900e33bda04",
   "metadata": {},
   "outputs": [],
   "source": []
  },
  {
   "cell_type": "code",
   "execution_count": null,
   "id": "2f92fef1-e53f-4538-a754-b551ad13c8f9",
   "metadata": {},
   "outputs": [],
   "source": []
  },
  {
   "cell_type": "code",
   "execution_count": null,
   "id": "f1d47710-b492-4c65-a87d-1fddbea6ef69",
   "metadata": {},
   "outputs": [],
   "source": []
  },
  {
   "cell_type": "markdown",
   "id": "501725fa-29a8-4e41-b0f0-4eb6f185f5e4",
   "metadata": {},
   "source": [
    "# reading the script output"
   ]
  },
  {
   "cell_type": "code",
   "execution_count": 4,
   "id": "c323f871-4241-474c-9d2f-bba24c75d6e5",
   "metadata": {},
   "outputs": [
    {
     "data": {
      "text/plain": [
       "Index(['nsnps_per', 'nsample', 'sparsity', 'nblocks', 'global_malloc_current',\n",
       "       'global_malloc_peak', 'global_lasso_malloc_current',\n",
       "       'global_lasso_malloc_peak', 'true_met', 'global_met',\n",
       "       'single_block_malloc_current', 'single_block_malloc_peak',\n",
       "       'block_malloc_current', 'block_malloc_peak',\n",
       "       'avg_block_lasso_malloc_current', 'avg_block_lasso_malloc_peak',\n",
       "       'unweighted_block_met', 'block_met'],\n",
       "      dtype='object')"
      ]
     },
     "execution_count": 4,
     "metadata": {},
     "output_type": "execute_result"
    }
   ],
   "source": [
    "data = pd.read_csv(f'{work_path}/lasso_grid_data.txt')\n",
    "data.columns"
   ]
  },
  {
   "cell_type": "code",
   "execution_count": 12,
   "id": "d0b855fc-947c-4647-820c-2bf31dc6e576",
   "metadata": {},
   "outputs": [],
   "source": [
    "# df = data[(data['nsnps_per']==100)&(data['sparsity']==.5)]\n",
    "df = data[(data['nsample']==10000)&(data['sparsity']==.5)]"
   ]
  },
  {
   "cell_type": "code",
   "execution_count": 17,
   "id": "65cfa403-a455-4d01-94cd-09d00a02e253",
   "metadata": {},
   "outputs": [
    {
     "data": {
      "text/html": [
       "<div>\n",
       "<style scoped>\n",
       "    .dataframe tbody tr th:only-of-type {\n",
       "        vertical-align: middle;\n",
       "    }\n",
       "\n",
       "    .dataframe tbody tr th {\n",
       "        vertical-align: top;\n",
       "    }\n",
       "\n",
       "    .dataframe thead th {\n",
       "        text-align: right;\n",
       "    }\n",
       "</style>\n",
       "<table border=\"1\" class=\"dataframe\">\n",
       "  <thead>\n",
       "    <tr style=\"text-align: right;\">\n",
       "      <th></th>\n",
       "      <th>nsnps_per</th>\n",
       "      <th>true_met</th>\n",
       "      <th>global_met</th>\n",
       "      <th>unweighted_block_met</th>\n",
       "      <th>block_met</th>\n",
       "    </tr>\n",
       "  </thead>\n",
       "  <tbody>\n",
       "    <tr>\n",
       "      <th>4</th>\n",
       "      <td>10</td>\n",
       "      <td>0.569898</td>\n",
       "      <td>0.549227</td>\n",
       "      <td>0.530837</td>\n",
       "      <td>0.540435</td>\n",
       "    </tr>\n",
       "    <tr>\n",
       "      <th>16</th>\n",
       "      <td>50</td>\n",
       "      <td>0.569183</td>\n",
       "      <td>0.516422</td>\n",
       "      <td>0.469073</td>\n",
       "      <td>0.505247</td>\n",
       "    </tr>\n",
       "    <tr>\n",
       "      <th>28</th>\n",
       "      <td>100</td>\n",
       "      <td>0.572298</td>\n",
       "      <td>0.570556</td>\n",
       "      <td>0.524793</td>\n",
       "      <td>0.544423</td>\n",
       "    </tr>\n",
       "    <tr>\n",
       "      <th>40</th>\n",
       "      <td>500</td>\n",
       "      <td>0.561924</td>\n",
       "      <td>0.493574</td>\n",
       "      <td>0.336756</td>\n",
       "      <td>0.436249</td>\n",
       "    </tr>\n",
       "  </tbody>\n",
       "</table>\n",
       "</div>"
      ],
      "text/plain": [
       "    nsnps_per  true_met  global_met  unweighted_block_met  block_met\n",
       "4          10  0.569898    0.549227              0.530837   0.540435\n",
       "16         50  0.569183    0.516422              0.469073   0.505247\n",
       "28        100  0.572298    0.570556              0.524793   0.544423\n",
       "40        500  0.561924    0.493574              0.336756   0.436249"
      ]
     },
     "execution_count": 17,
     "metadata": {},
     "output_type": "execute_result"
    }
   ],
   "source": [
    "df[['nsnps_per','true_met','global_met','unweighted_block_met','block_met']]"
   ]
  },
  {
   "cell_type": "code",
   "execution_count": 9,
   "id": "eafa43c9-7e7c-48e1-88f3-1db69656a2cf",
   "metadata": {},
   "outputs": [
    {
     "data": {
      "text/html": [
       "<div>\n",
       "<style scoped>\n",
       "    .dataframe tbody tr th:only-of-type {\n",
       "        vertical-align: middle;\n",
       "    }\n",
       "\n",
       "    .dataframe tbody tr th {\n",
       "        vertical-align: top;\n",
       "    }\n",
       "\n",
       "    .dataframe thead th {\n",
       "        text-align: right;\n",
       "    }\n",
       "</style>\n",
       "<table border=\"1\" class=\"dataframe\">\n",
       "  <thead>\n",
       "    <tr style=\"text-align: right;\">\n",
       "      <th></th>\n",
       "      <th>global_malloc_current</th>\n",
       "      <th>global_lasso_malloc_current</th>\n",
       "      <th>single_block_malloc_current</th>\n",
       "      <th>block_malloc_current</th>\n",
       "      <th>avg_block_lasso_malloc_current</th>\n",
       "    </tr>\n",
       "  </thead>\n",
       "  <tbody>\n",
       "    <tr>\n",
       "      <th>25</th>\n",
       "      <td>0.147007</td>\n",
       "      <td>0.000882</td>\n",
       "      <td>0.004611</td>\n",
       "      <td>0.092611</td>\n",
       "      <td>481080.590909</td>\n",
       "    </tr>\n",
       "    <tr>\n",
       "      <th>28</th>\n",
       "      <td>0.235608</td>\n",
       "      <td>0.000882</td>\n",
       "      <td>0.009211</td>\n",
       "      <td>0.185212</td>\n",
       "      <td>480401.727273</td>\n",
       "    </tr>\n",
       "    <tr>\n",
       "      <th>31</th>\n",
       "      <td>0.324207</td>\n",
       "      <td>0.000882</td>\n",
       "      <td>0.013811</td>\n",
       "      <td>0.277811</td>\n",
       "      <td>479239.227273</td>\n",
       "    </tr>\n",
       "    <tr>\n",
       "      <th>34</th>\n",
       "      <td>0.412807</td>\n",
       "      <td>0.000882</td>\n",
       "      <td>0.018411</td>\n",
       "      <td>0.370411</td>\n",
       "      <td>481662.818182</td>\n",
       "    </tr>\n",
       "  </tbody>\n",
       "</table>\n",
       "</div>"
      ],
      "text/plain": [
       "    global_malloc_current  global_lasso_malloc_current  \\\n",
       "25               0.147007                     0.000882   \n",
       "28               0.235608                     0.000882   \n",
       "31               0.324207                     0.000882   \n",
       "34               0.412807                     0.000882   \n",
       "\n",
       "    single_block_malloc_current  block_malloc_current  \\\n",
       "25                     0.004611              0.092611   \n",
       "28                     0.009211              0.185212   \n",
       "31                     0.013811              0.277811   \n",
       "34                     0.018411              0.370411   \n",
       "\n",
       "    avg_block_lasso_malloc_current  \n",
       "25                   481080.590909  \n",
       "28                   480401.727273  \n",
       "31                   479239.227273  \n",
       "34                   481662.818182  "
      ]
     },
     "execution_count": 9,
     "metadata": {},
     "output_type": "execute_result"
    }
   ],
   "source": [
    "df[['global_malloc_current','global_lasso_malloc_current', 'single_block_malloc_current','block_malloc_current','avg_block_lasso_malloc_current']]"
   ]
  },
  {
   "cell_type": "code",
   "execution_count": 10,
   "id": "775427c0-c9ea-430a-8118-e50938c1e602",
   "metadata": {},
   "outputs": [
    {
     "data": {
      "text/plain": [
       "25    31.884247\n",
       "28    25.579932\n",
       "31    23.475163\n",
       "34    22.422204\n",
       "dtype: float64"
      ]
     },
     "execution_count": 10,
     "metadata": {},
     "output_type": "execute_result"
    }
   ],
   "source": [
    "df['global_malloc_current']/df['single_block_malloc_current']"
   ]
  },
  {
   "cell_type": "code",
   "execution_count": 11,
   "id": "337258db-a84e-4cc8-a230-d77560947ee8",
   "metadata": {},
   "outputs": [
    {
     "data": {
      "text/plain": [
       "0     67.500062\n",
       "1     67.449281\n",
       "2     67.448965\n",
       "3     38.464084\n",
       "4     38.464144\n",
       "5     38.464076\n",
       "6     28.784853\n",
       "7     28.784830\n",
       "8     28.784854\n",
       "9     23.941948\n",
       "10    23.941929\n",
       "11    23.941931\n",
       "12    39.486043\n",
       "13    39.526632\n",
       "14    39.486027\n",
       "15    28.333335\n",
       "16    28.333325\n",
       "17    28.333345\n",
       "18    24.609827\n",
       "19    24.610237\n",
       "20    24.609830\n",
       "21    22.746959\n",
       "22    22.746959\n",
       "23    22.746959\n",
       "24    31.884248\n",
       "25    31.884247\n",
       "26    31.884250\n",
       "27    25.579864\n",
       "28    25.579932\n",
       "29    25.579871\n",
       "30    23.475346\n",
       "31    23.475163\n",
       "32    23.475163\n",
       "33    22.422200\n",
       "34    22.422204\n",
       "35    22.422204\n",
       "36    24.207362\n",
       "37    24.207363\n",
       "38    24.207363\n",
       "39    22.799424\n",
       "40    22.799424\n",
       "41    22.799425\n",
       "42    22.329416\n",
       "43    22.329416\n",
       "44    22.329416\n",
       "45    22.094280\n",
       "46    22.094281\n",
       "47    22.094280\n",
       "dtype: float64"
      ]
     },
     "execution_count": 11,
     "metadata": {},
     "output_type": "execute_result"
    }
   ],
   "source": [
    "data['global_malloc_current']/data['single_block_malloc_current']"
   ]
  },
  {
   "cell_type": "code",
   "execution_count": null,
   "id": "3063ac37-0056-43cb-8bcc-91ee3c1f1a43",
   "metadata": {},
   "outputs": [],
   "source": []
  },
  {
   "cell_type": "code",
   "execution_count": null,
   "id": "bf264a9d-5855-4bbc-92ac-c64048b15ac2",
   "metadata": {},
   "outputs": [],
   "source": []
  },
  {
   "cell_type": "code",
   "execution_count": null,
   "id": "da919f8d-9f6b-4028-98a1-4e0d6c5e87d8",
   "metadata": {},
   "outputs": [],
   "source": []
  },
  {
   "cell_type": "code",
   "execution_count": null,
   "id": "d9a19408-b339-40f7-8890-42481836551d",
   "metadata": {},
   "outputs": [],
   "source": []
  },
  {
   "cell_type": "code",
   "execution_count": null,
   "id": "6fe6ed06-c2fa-4284-8cf6-e6833584dd6c",
   "metadata": {},
   "outputs": [],
   "source": []
  },
  {
   "cell_type": "code",
   "execution_count": null,
   "id": "e481d8cd-0b2a-4e7b-a2cc-dacb5ad6b7e6",
   "metadata": {},
   "outputs": [],
   "source": []
  }
 ],
 "metadata": {
  "kernelspec": {
   "display_name": "Python 3 (ipykernel)",
   "language": "python",
   "name": "python3"
  },
  "language_info": {
   "codemirror_mode": {
    "name": "ipython",
    "version": 3
   },
   "file_extension": ".py",
   "mimetype": "text/x-python",
   "name": "python",
   "nbconvert_exporter": "python",
   "pygments_lexer": "ipython3",
   "version": "3.11.5"
  }
 },
 "nbformat": 4,
 "nbformat_minor": 5
}
